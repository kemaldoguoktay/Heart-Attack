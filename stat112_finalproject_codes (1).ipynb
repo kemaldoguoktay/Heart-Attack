{
 "cells": [
  {
   "cell_type": "markdown",
   "metadata": {
    "collapsed": false,
    "pycharm": {
     "name": "#%% md\n"
    }
   },
   "source": [
    "Cleaning Part"
   ]
  },
  {
   "cell_type": "code",
   "execution_count": 340,
   "metadata": {
    "colab": {
     "base_uri": "https://localhost:8080/"
    },
    "id": "DuWgbmciYW2x",
    "outputId": "e08d2a2c-05a7-4a22-e4b8-3bb2df967b3b",
    "pycharm": {
     "name": "#%%\n"
    }
   },
   "outputs": [
    {
     "data": {
      "text/html": [
       "<div>\n",
       "<style scoped>\n",
       "    .dataframe tbody tr th:only-of-type {\n",
       "        vertical-align: middle;\n",
       "    }\n",
       "\n",
       "    .dataframe tbody tr th {\n",
       "        vertical-align: top;\n",
       "    }\n",
       "\n",
       "    .dataframe thead th {\n",
       "        text-align: right;\n",
       "    }\n",
       "</style>\n",
       "<table border=\"1\" class=\"dataframe\">\n",
       "  <thead>\n",
       "    <tr style=\"text-align: right;\">\n",
       "      <th></th>\n",
       "      <th>age</th>\n",
       "      <th>sex</th>\n",
       "      <th>cp</th>\n",
       "      <th>trtbps</th>\n",
       "      <th>chol</th>\n",
       "      <th>fbs</th>\n",
       "      <th>thalachh</th>\n",
       "      <th>exng</th>\n",
       "      <th>oldpeak</th>\n",
       "      <th>caa</th>\n",
       "      <th>thall</th>\n",
       "      <th>heart_attack</th>\n",
       "    </tr>\n",
       "  </thead>\n",
       "  <tbody>\n",
       "    <tr>\n",
       "      <th>0</th>\n",
       "      <td>NaN</td>\n",
       "      <td>male</td>\n",
       "      <td>2.0</td>\n",
       "      <td>130.0</td>\n",
       "      <td>NaN</td>\n",
       "      <td>False</td>\n",
       "      <td>179.0</td>\n",
       "      <td>no</td>\n",
       "      <td>0.0</td>\n",
       "      <td>NaN</td>\n",
       "      <td>2.0</td>\n",
       "      <td>NaN</td>\n",
       "    </tr>\n",
       "    <tr>\n",
       "      <th>1</th>\n",
       "      <td>60.0</td>\n",
       "      <td>NaN</td>\n",
       "      <td>0.0</td>\n",
       "      <td>145.0</td>\n",
       "      <td>282.0</td>\n",
       "      <td>False</td>\n",
       "      <td>142.0</td>\n",
       "      <td>NaN</td>\n",
       "      <td>2.8</td>\n",
       "      <td>2.0</td>\n",
       "      <td>NaN</td>\n",
       "      <td>no</td>\n",
       "    </tr>\n",
       "    <tr>\n",
       "      <th>2</th>\n",
       "      <td>59.0</td>\n",
       "      <td>male</td>\n",
       "      <td>NaN</td>\n",
       "      <td>NaN</td>\n",
       "      <td>270.0</td>\n",
       "      <td>False</td>\n",
       "      <td>145.0</td>\n",
       "      <td>no</td>\n",
       "      <td>4.2</td>\n",
       "      <td>NaN</td>\n",
       "      <td>3.0</td>\n",
       "      <td>yes</td>\n",
       "    </tr>\n",
       "    <tr>\n",
       "      <th>3</th>\n",
       "      <td>44.0</td>\n",
       "      <td>male</td>\n",
       "      <td>2.0</td>\n",
       "      <td>130.0</td>\n",
       "      <td>233.0</td>\n",
       "      <td>False</td>\n",
       "      <td>NaN</td>\n",
       "      <td>yes</td>\n",
       "      <td>0.4</td>\n",
       "      <td>0.0</td>\n",
       "      <td>2.0</td>\n",
       "      <td>yes</td>\n",
       "    </tr>\n",
       "    <tr>\n",
       "      <th>4</th>\n",
       "      <td>41.0</td>\n",
       "      <td>female</td>\n",
       "      <td>1.0</td>\n",
       "      <td>NaN</td>\n",
       "      <td>198.0</td>\n",
       "      <td>False</td>\n",
       "      <td>168.0</td>\n",
       "      <td>no</td>\n",
       "      <td>0.0</td>\n",
       "      <td>1.0</td>\n",
       "      <td>NaN</td>\n",
       "      <td>yes</td>\n",
       "    </tr>\n",
       "  </tbody>\n",
       "</table>\n",
       "</div>"
      ],
      "text/plain": [
       "    age     sex   cp  trtbps   chol    fbs  thalachh exng  oldpeak  caa  \\\n",
       "0   NaN    male  2.0   130.0    NaN  False     179.0   no      0.0  NaN   \n",
       "1  60.0     NaN  0.0   145.0  282.0  False     142.0  NaN      2.8  2.0   \n",
       "2  59.0    male  NaN     NaN  270.0  False     145.0   no      4.2  NaN   \n",
       "3  44.0    male  2.0   130.0  233.0  False       NaN  yes      0.4  0.0   \n",
       "4  41.0  female  1.0     NaN  198.0  False     168.0   no      0.0  1.0   \n",
       "\n",
       "   thall heart_attack  \n",
       "0    2.0          NaN  \n",
       "1    NaN           no  \n",
       "2    3.0          yes  \n",
       "3    2.0          yes  \n",
       "4    NaN          yes  "
      ]
     },
     "execution_count": 340,
     "metadata": {},
     "output_type": "execute_result"
    }
   ],
   "source": [
    "import pandas as pd # Imported pandas library\n",
    "import numpy as np # Imported numpy library\n",
    "import seaborn as sns # Imported seaborn library\n",
    "import matplotlib.pyplot as plt # Imported matplotlib library\n",
    "heart= pd.read_excel(\"heart_attack.xlsx\") # Uploaded dataset and named it as heart\n",
    "heart.head() # Checked the first 5 row of the dataset"
   ]
  },
  {
   "cell_type": "code",
   "execution_count": 341,
   "metadata": {
    "collapsed": false,
    "pycharm": {
     "name": "#%%\n"
    }
   },
   "outputs": [
    {
     "data": {
      "text/html": [
       "<div>\n",
       "<style scoped>\n",
       "    .dataframe tbody tr th:only-of-type {\n",
       "        vertical-align: middle;\n",
       "    }\n",
       "\n",
       "    .dataframe tbody tr th {\n",
       "        vertical-align: top;\n",
       "    }\n",
       "\n",
       "    .dataframe thead th {\n",
       "        text-align: right;\n",
       "    }\n",
       "</style>\n",
       "<table border=\"1\" class=\"dataframe\">\n",
       "  <thead>\n",
       "    <tr style=\"text-align: right;\">\n",
       "      <th></th>\n",
       "      <th>age</th>\n",
       "      <th>sex</th>\n",
       "      <th>cp</th>\n",
       "      <th>trtbps</th>\n",
       "      <th>chol</th>\n",
       "      <th>fbs</th>\n",
       "      <th>thalachh</th>\n",
       "      <th>exng</th>\n",
       "      <th>oldpeak</th>\n",
       "      <th>caa</th>\n",
       "      <th>thall</th>\n",
       "      <th>heart_attack</th>\n",
       "    </tr>\n",
       "  </thead>\n",
       "  <tbody>\n",
       "    <tr>\n",
       "      <th>145</th>\n",
       "      <td>51.0</td>\n",
       "      <td>male</td>\n",
       "      <td>2.0</td>\n",
       "      <td>125.0</td>\n",
       "      <td>NaN</td>\n",
       "      <td>True</td>\n",
       "      <td>166.0</td>\n",
       "      <td>no</td>\n",
       "      <td>2.4</td>\n",
       "      <td>0.0</td>\n",
       "      <td>NaN</td>\n",
       "      <td>NaN</td>\n",
       "    </tr>\n",
       "    <tr>\n",
       "      <th>146</th>\n",
       "      <td>51.0</td>\n",
       "      <td>male</td>\n",
       "      <td>2.0</td>\n",
       "      <td>94.0</td>\n",
       "      <td>227.0</td>\n",
       "      <td>False</td>\n",
       "      <td>NaN</td>\n",
       "      <td>yes</td>\n",
       "      <td>0.0</td>\n",
       "      <td>1.0</td>\n",
       "      <td>3.0</td>\n",
       "      <td>yes</td>\n",
       "    </tr>\n",
       "    <tr>\n",
       "      <th>147</th>\n",
       "      <td>120.0</td>\n",
       "      <td>male</td>\n",
       "      <td>2.0</td>\n",
       "      <td>125.0</td>\n",
       "      <td>273.0</td>\n",
       "      <td>NaN</td>\n",
       "      <td>152.0</td>\n",
       "      <td>no</td>\n",
       "      <td>0.5</td>\n",
       "      <td>1.0</td>\n",
       "      <td>2.0</td>\n",
       "      <td>yes</td>\n",
       "    </tr>\n",
       "    <tr>\n",
       "      <th>148</th>\n",
       "      <td>61.0</td>\n",
       "      <td>male</td>\n",
       "      <td>0.0</td>\n",
       "      <td>138.0</td>\n",
       "      <td>166.0</td>\n",
       "      <td>False</td>\n",
       "      <td>125.0</td>\n",
       "      <td>yes</td>\n",
       "      <td>NaN</td>\n",
       "      <td>1.0</td>\n",
       "      <td>2.0</td>\n",
       "      <td>NaN</td>\n",
       "    </tr>\n",
       "    <tr>\n",
       "      <th>149</th>\n",
       "      <td>NaN</td>\n",
       "      <td>MaLe</td>\n",
       "      <td>2.0</td>\n",
       "      <td>NaN</td>\n",
       "      <td>214.0</td>\n",
       "      <td>False</td>\n",
       "      <td>168.0</td>\n",
       "      <td>no</td>\n",
       "      <td>2.0</td>\n",
       "      <td>0.0</td>\n",
       "      <td>2.0</td>\n",
       "      <td>yes</td>\n",
       "    </tr>\n",
       "  </tbody>\n",
       "</table>\n",
       "</div>"
      ],
      "text/plain": [
       "       age    sex   cp  trtbps   chol    fbs  thalachh exng  oldpeak  caa  \\\n",
       "145   51.0   male  2.0   125.0    NaN   True     166.0   no      2.4  0.0   \n",
       "146   51.0   male  2.0    94.0  227.0  False       NaN  yes      0.0  1.0   \n",
       "147  120.0   male  2.0   125.0  273.0    NaN     152.0   no      0.5  1.0   \n",
       "148   61.0   male  0.0   138.0  166.0  False     125.0  yes      NaN  1.0   \n",
       "149    NaN  MaLe   2.0     NaN  214.0  False     168.0   no      2.0  0.0   \n",
       "\n",
       "     thall heart_attack  \n",
       "145    NaN          NaN  \n",
       "146    3.0          yes  \n",
       "147    2.0          yes  \n",
       "148    2.0          NaN  \n",
       "149    2.0          yes  "
      ]
     },
     "execution_count": 341,
     "metadata": {},
     "output_type": "execute_result"
    }
   ],
   "source": [
    "heart.tail() # Checked the last 5 row of the dataset"
   ]
  },
  {
   "cell_type": "code",
   "execution_count": 342,
   "metadata": {
    "collapsed": false,
    "pycharm": {
     "name": "#%%\n"
    }
   },
   "outputs": [
    {
     "data": {
      "text/html": [
       "<div>\n",
       "<style scoped>\n",
       "    .dataframe tbody tr th:only-of-type {\n",
       "        vertical-align: middle;\n",
       "    }\n",
       "\n",
       "    .dataframe tbody tr th {\n",
       "        vertical-align: top;\n",
       "    }\n",
       "\n",
       "    .dataframe thead th {\n",
       "        text-align: right;\n",
       "    }\n",
       "</style>\n",
       "<table border=\"1\" class=\"dataframe\">\n",
       "  <thead>\n",
       "    <tr style=\"text-align: right;\">\n",
       "      <th></th>\n",
       "      <th>count</th>\n",
       "      <th>mean</th>\n",
       "      <th>std</th>\n",
       "      <th>min</th>\n",
       "      <th>25%</th>\n",
       "      <th>50%</th>\n",
       "      <th>75%</th>\n",
       "      <th>max</th>\n",
       "    </tr>\n",
       "  </thead>\n",
       "  <tbody>\n",
       "    <tr>\n",
       "      <th>age</th>\n",
       "      <td>128.0</td>\n",
       "      <td>58.179688</td>\n",
       "      <td>16.149612</td>\n",
       "      <td>34.0</td>\n",
       "      <td>49.00</td>\n",
       "      <td>57.0</td>\n",
       "      <td>63.0</td>\n",
       "      <td>120.0</td>\n",
       "    </tr>\n",
       "    <tr>\n",
       "      <th>cp</th>\n",
       "      <td>128.0</td>\n",
       "      <td>1.023438</td>\n",
       "      <td>1.053415</td>\n",
       "      <td>0.0</td>\n",
       "      <td>0.00</td>\n",
       "      <td>1.0</td>\n",
       "      <td>2.0</td>\n",
       "      <td>3.0</td>\n",
       "    </tr>\n",
       "    <tr>\n",
       "      <th>trtbps</th>\n",
       "      <td>122.0</td>\n",
       "      <td>129.868852</td>\n",
       "      <td>17.195978</td>\n",
       "      <td>94.0</td>\n",
       "      <td>120.00</td>\n",
       "      <td>130.0</td>\n",
       "      <td>140.0</td>\n",
       "      <td>180.0</td>\n",
       "    </tr>\n",
       "    <tr>\n",
       "      <th>chol</th>\n",
       "      <td>130.0</td>\n",
       "      <td>259.446154</td>\n",
       "      <td>76.984249</td>\n",
       "      <td>126.0</td>\n",
       "      <td>209.75</td>\n",
       "      <td>247.0</td>\n",
       "      <td>277.0</td>\n",
       "      <td>500.0</td>\n",
       "    </tr>\n",
       "    <tr>\n",
       "      <th>thalachh</th>\n",
       "      <td>129.0</td>\n",
       "      <td>146.798450</td>\n",
       "      <td>22.865223</td>\n",
       "      <td>71.0</td>\n",
       "      <td>131.00</td>\n",
       "      <td>150.0</td>\n",
       "      <td>162.0</td>\n",
       "      <td>194.0</td>\n",
       "    </tr>\n",
       "    <tr>\n",
       "      <th>oldpeak</th>\n",
       "      <td>126.0</td>\n",
       "      <td>1.007937</td>\n",
       "      <td>1.066479</td>\n",
       "      <td>0.0</td>\n",
       "      <td>0.00</td>\n",
       "      <td>0.8</td>\n",
       "      <td>1.6</td>\n",
       "      <td>4.2</td>\n",
       "    </tr>\n",
       "    <tr>\n",
       "      <th>caa</th>\n",
       "      <td>125.0</td>\n",
       "      <td>0.728000</td>\n",
       "      <td>1.003028</td>\n",
       "      <td>0.0</td>\n",
       "      <td>0.00</td>\n",
       "      <td>0.0</td>\n",
       "      <td>1.0</td>\n",
       "      <td>4.0</td>\n",
       "    </tr>\n",
       "    <tr>\n",
       "      <th>thall</th>\n",
       "      <td>125.0</td>\n",
       "      <td>2.328000</td>\n",
       "      <td>0.606098</td>\n",
       "      <td>0.0</td>\n",
       "      <td>2.00</td>\n",
       "      <td>2.0</td>\n",
       "      <td>3.0</td>\n",
       "      <td>3.0</td>\n",
       "    </tr>\n",
       "  </tbody>\n",
       "</table>\n",
       "</div>"
      ],
      "text/plain": [
       "          count        mean        std    min     25%    50%    75%    max\n",
       "age       128.0   58.179688  16.149612   34.0   49.00   57.0   63.0  120.0\n",
       "cp        128.0    1.023438   1.053415    0.0    0.00    1.0    2.0    3.0\n",
       "trtbps    122.0  129.868852  17.195978   94.0  120.00  130.0  140.0  180.0\n",
       "chol      130.0  259.446154  76.984249  126.0  209.75  247.0  277.0  500.0\n",
       "thalachh  129.0  146.798450  22.865223   71.0  131.00  150.0  162.0  194.0\n",
       "oldpeak   126.0    1.007937   1.066479    0.0    0.00    0.8    1.6    4.2\n",
       "caa       125.0    0.728000   1.003028    0.0    0.00    0.0    1.0    4.0\n",
       "thall     125.0    2.328000   0.606098    0.0    2.00    2.0    3.0    3.0"
      ]
     },
     "execution_count": 342,
     "metadata": {},
     "output_type": "execute_result"
    }
   ],
   "source": [
    "heart.describe().T # Examined the descriptive statistics of numerical data."
   ]
  },
  {
   "cell_type": "code",
   "execution_count": 343,
   "metadata": {
    "collapsed": false,
    "pycharm": {
     "name": "#%%\n"
    }
   },
   "outputs": [
    {
     "data": {
      "text/html": [
       "<div>\n",
       "<style scoped>\n",
       "    .dataframe tbody tr th:only-of-type {\n",
       "        vertical-align: middle;\n",
       "    }\n",
       "\n",
       "    .dataframe tbody tr th {\n",
       "        vertical-align: top;\n",
       "    }\n",
       "\n",
       "    .dataframe thead th {\n",
       "        text-align: right;\n",
       "    }\n",
       "</style>\n",
       "<table border=\"1\" class=\"dataframe\">\n",
       "  <thead>\n",
       "    <tr style=\"text-align: right;\">\n",
       "      <th></th>\n",
       "      <th>count</th>\n",
       "      <th>unique</th>\n",
       "      <th>top</th>\n",
       "      <th>freq</th>\n",
       "    </tr>\n",
       "  </thead>\n",
       "  <tbody>\n",
       "    <tr>\n",
       "      <th>sex</th>\n",
       "      <td>131</td>\n",
       "      <td>6</td>\n",
       "      <td>male</td>\n",
       "      <td>73</td>\n",
       "    </tr>\n",
       "    <tr>\n",
       "      <th>fbs</th>\n",
       "      <td>126</td>\n",
       "      <td>2</td>\n",
       "      <td>False</td>\n",
       "      <td>104</td>\n",
       "    </tr>\n",
       "    <tr>\n",
       "      <th>exng</th>\n",
       "      <td>130</td>\n",
       "      <td>2</td>\n",
       "      <td>no</td>\n",
       "      <td>88</td>\n",
       "    </tr>\n",
       "    <tr>\n",
       "      <th>heart_attack</th>\n",
       "      <td>131</td>\n",
       "      <td>5</td>\n",
       "      <td>yes</td>\n",
       "      <td>60</td>\n",
       "    </tr>\n",
       "  </tbody>\n",
       "</table>\n",
       "</div>"
      ],
      "text/plain": [
       "             count unique    top freq\n",
       "sex            131      6   male   73\n",
       "fbs            126      2  False  104\n",
       "exng           130      2     no   88\n",
       "heart_attack   131      5    yes   60"
      ]
     },
     "execution_count": 343,
     "metadata": {},
     "output_type": "execute_result"
    }
   ],
   "source": [
    "heart.describe(include = \"O\").T # Examined the descriptive statistics of categorical data."
   ]
  },
  {
   "cell_type": "code",
   "execution_count": 344,
   "metadata": {
    "collapsed": false,
    "pycharm": {
     "name": "#%%\n"
    }
   },
   "outputs": [
    {
     "name": "stdout",
     "output_type": "stream",
     "text": [
      "<class 'pandas.core.frame.DataFrame'>\n",
      "RangeIndex: 150 entries, 0 to 149\n",
      "Data columns (total 12 columns):\n",
      " #   Column        Non-Null Count  Dtype  \n",
      "---  ------        --------------  -----  \n",
      " 0   age           128 non-null    float64\n",
      " 1   sex           131 non-null    object \n",
      " 2   cp            128 non-null    float64\n",
      " 3   trtbps        122 non-null    float64\n",
      " 4   chol          130 non-null    float64\n",
      " 5   fbs           126 non-null    object \n",
      " 6   thalachh      129 non-null    float64\n",
      " 7   exng          130 non-null    object \n",
      " 8   oldpeak       126 non-null    float64\n",
      " 9   caa           125 non-null    float64\n",
      " 10  thall         125 non-null    float64\n",
      " 11  heart_attack  131 non-null    object \n",
      "dtypes: float64(8), object(4)\n",
      "memory usage: 14.2+ KB\n"
     ]
    }
   ],
   "source": [
    "heart.info() # Examined the data types of the columns."
   ]
  },
  {
   "cell_type": "code",
   "execution_count": 345,
   "metadata": {
    "collapsed": false,
    "pycharm": {
     "name": "#%%\n"
    }
   },
   "outputs": [
    {
     "data": {
      "text/plain": [
       "0"
      ]
     },
     "execution_count": 345,
     "metadata": {},
     "output_type": "execute_result"
    }
   ],
   "source": [
    "heart.duplicated().sum() # Checked for duplicates"
   ]
  },
  {
   "cell_type": "code",
   "execution_count": 346,
   "metadata": {
    "collapsed": false,
    "pycharm": {
     "name": "#%%\n"
    }
   },
   "outputs": [
    {
     "name": "stdout",
     "output_type": "stream",
     "text": [
      "male       73\n",
      "female     30\n",
      "MALE       14\n",
      "MaLe        9\n",
      "feMaLe      4\n",
      "feMALE      1\n",
      "Name: sex, dtype: int64\n",
      "False    104\n",
      "True      22\n",
      "Name: fbs, dtype: int64\n",
      "no     88\n",
      "yes    42\n",
      "Name: exng, dtype: int64\n",
      "yes     60\n",
      "no      55\n",
      " YeS     6\n",
      "YES      6\n",
      "NO       4\n",
      "Name: heart_attack, dtype: int64\n"
     ]
    }
   ],
   "source": [
    "for i in heart.select_dtypes(include = 'object').columns:\n",
    "    print(heart[i].value_counts()) # Examined the items in each column whose data type is categorical."
   ]
  },
  {
   "cell_type": "code",
   "execution_count": 347,
   "metadata": {
    "collapsed": false,
    "pycharm": {
     "name": "#%%\n"
    }
   },
   "outputs": [
    {
     "name": "stdout",
     "output_type": "stream",
     "text": [
      "59.0     8\n",
      "57.0     7\n",
      "51.0     6\n",
      "120.0    6\n",
      "66.0     6\n",
      "58.0     6\n",
      "67.0     5\n",
      "64.0     5\n",
      "62.0     5\n",
      "54.0     5\n",
      "43.0     5\n",
      "56.0     5\n",
      "44.0     5\n",
      "52.0     4\n",
      "61.0     4\n",
      "48.0     4\n",
      "45.0     4\n",
      "63.0     3\n",
      "42.0     3\n",
      "53.0     3\n",
      "49.0     3\n",
      "60.0     3\n",
      "65.0     3\n",
      "69.0     3\n",
      "68.0     2\n",
      "46.0     2\n",
      "50.0     2\n",
      "39.0     2\n",
      "47.0     2\n",
      "55.0     2\n",
      "71.0     1\n",
      "38.0     1\n",
      "35.0     1\n",
      "41.0     1\n",
      "34.0     1\n",
      "Name: age, dtype: int64\n",
      "0.0    58\n",
      "2.0    39\n",
      "1.0    20\n",
      "3.0    11\n",
      "Name: cp, dtype: int64\n",
      "130.0    16\n",
      "120.0    15\n",
      "110.0    12\n",
      "140.0    10\n",
      "128.0     7\n",
      "125.0     6\n",
      "150.0     6\n",
      "132.0     5\n",
      "138.0     5\n",
      "160.0     4\n",
      "118.0     3\n",
      "134.0     3\n",
      "94.0      2\n",
      "152.0     2\n",
      "105.0     2\n",
      "100.0     2\n",
      "180.0     2\n",
      "124.0     2\n",
      "115.0     2\n",
      "136.0     2\n",
      "112.0     2\n",
      "170.0     1\n",
      "102.0     1\n",
      "165.0     1\n",
      "122.0     1\n",
      "174.0     1\n",
      "146.0     1\n",
      "148.0     1\n",
      "144.0     1\n",
      "145.0     1\n",
      "101.0     1\n",
      "135.0     1\n",
      "164.0     1\n",
      "Name: trtbps, dtype: int64\n",
      "500.0    8\n",
      "234.0    4\n",
      "243.0    3\n",
      "197.0    3\n",
      "249.0    3\n",
      "        ..\n",
      "308.0    1\n",
      "246.0    1\n",
      "169.0    1\n",
      "235.0    1\n",
      "214.0    1\n",
      "Name: chol, Length: 86, dtype: int64\n",
      "144.0    6\n",
      "156.0    4\n",
      "162.0    4\n",
      "140.0    4\n",
      "125.0    4\n",
      "        ..\n",
      "148.0    1\n",
      "177.0    1\n",
      "194.0    1\n",
      "137.0    1\n",
      "169.0    1\n",
      "Name: thalachh, Length: 66, dtype: int64\n",
      "0.0    37\n",
      "1.2    10\n",
      "0.8     7\n",
      "1.0     7\n",
      "0.2     6\n",
      "0.6     6\n",
      "0.4     5\n",
      "1.8     5\n",
      "0.1     4\n",
      "1.6     4\n",
      "2.6     4\n",
      "1.4     4\n",
      "2.8     4\n",
      "0.5     3\n",
      "2.0     3\n",
      "1.5     3\n",
      "1.9     2\n",
      "4.2     2\n",
      "3.0     2\n",
      "3.6     2\n",
      "2.4     2\n",
      "2.2     1\n",
      "1.3     1\n",
      "4.0     1\n",
      "2.9     1\n",
      "Name: oldpeak, dtype: int64\n",
      "0.0    70\n",
      "1.0    31\n",
      "2.0    14\n",
      "3.0     8\n",
      "4.0     2\n",
      "Name: caa, dtype: int64\n",
      "2.0    69\n",
      "3.0    49\n",
      "1.0     6\n",
      "0.0     1\n",
      "Name: thall, dtype: int64\n"
     ]
    }
   ],
   "source": [
    "for i in heart.select_dtypes(exclude= \"object\").columns:\n",
    "    print(heart[i].value_counts()) # Examined the items in each column whose data type is numerical."
   ]
  },
  {
   "cell_type": "code",
   "execution_count": 348,
   "metadata": {
    "id": "VoBqSYT-YbVy",
    "pycharm": {
     "name": "#%%\n"
    }
   },
   "outputs": [],
   "source": [
    "heart.drop(heart[heart['age'] >= 120].index, inplace = True) # Checked age variable, value of 120 seems odd. Removed ages 120 and over"
   ]
  },
  {
   "cell_type": "code",
   "execution_count": 350,
   "metadata": {
    "colab": {
     "base_uri": "https://localhost:8080/"
    },
    "id": "unvuNRwhYiaA",
    "outputId": "067a5191-3f83-49dc-c07f-180935498be1",
    "pycharm": {
     "name": "#%%\n"
    }
   },
   "outputs": [],
   "source": [
    "heart[\"sex\"]=heart['sex'].str.capitalize() # Changed every value on sex variable to title format\n",
    "heart[\"sex\"]=heart['sex'].str.strip() # Removed blank spaces"
   ]
  },
  {
   "cell_type": "code",
   "execution_count": 351,
   "metadata": {
    "collapsed": false,
    "pycharm": {
     "name": "#%%\n"
    }
   },
   "outputs": [],
   "source": [
    "heart[\"exng\"]=heart['exng'].str.capitalize() # Changed every value on sex variable to title format\n",
    "heart[\"exng\"]=heart['exng'].str.strip() # Removed blank spaces"
   ]
  },
  {
   "cell_type": "code",
   "execution_count": 352,
   "metadata": {
    "id": "gek57jjxauku",
    "pycharm": {
     "name": "#%%\n"
    }
   },
   "outputs": [],
   "source": [
    "heart.drop(heart[heart['chol'] >=500 ].index, inplace = True) # Checked chol variable, value 500 seems odd. Removed chol values 500 and over."
   ]
  },
  {
   "cell_type": "code",
   "execution_count": 353,
   "metadata": {
    "id": "AX8Bop5Mbyp_",
    "pycharm": {
     "name": "#%%\n"
    }
   },
   "outputs": [],
   "source": [
    "heart.drop(heart[heart['caa'] > 3].index, inplace = True) # Checked caa variable, caa variable takes values between 0 and 3. 4 is odd. Deleted caa values over 3."
   ]
  },
  {
   "cell_type": "code",
   "execution_count": 354,
   "metadata": {
    "colab": {
     "base_uri": "https://localhost:8080/"
    },
    "id": "HECbiiq1cezZ",
    "outputId": "3b1b5955-b76c-4790-ad71-772c786dc469",
    "pycharm": {
     "name": "#%%\n"
    }
   },
   "outputs": [],
   "source": [
    "heart[\"heart_attack\"]=heart['heart_attack'].str.title() # Changed every value on heart_attack variable to title format\n",
    "heart[\"heart_attack\"]=heart['heart_attack'].str.strip() # Removed blank spaces"
   ]
  },
  {
   "cell_type": "code",
   "execution_count": 355,
   "metadata": {
    "collapsed": false,
    "pycharm": {
     "name": "#%%\n"
    }
   },
   "outputs": [
    {
     "data": {
      "text/html": [
       "<div>\n",
       "<style scoped>\n",
       "    .dataframe tbody tr th:only-of-type {\n",
       "        vertical-align: middle;\n",
       "    }\n",
       "\n",
       "    .dataframe tbody tr th {\n",
       "        vertical-align: top;\n",
       "    }\n",
       "\n",
       "    .dataframe thead th {\n",
       "        text-align: right;\n",
       "    }\n",
       "</style>\n",
       "<table border=\"1\" class=\"dataframe\">\n",
       "  <thead>\n",
       "    <tr style=\"text-align: right;\">\n",
       "      <th></th>\n",
       "      <th>Missing Number</th>\n",
       "      <th>Missing Percentage</th>\n",
       "    </tr>\n",
       "  </thead>\n",
       "  <tbody>\n",
       "    <tr>\n",
       "      <th>age</th>\n",
       "      <td>22</td>\n",
       "      <td>16.417910</td>\n",
       "    </tr>\n",
       "    <tr>\n",
       "      <th>sex</th>\n",
       "      <td>18</td>\n",
       "      <td>13.432836</td>\n",
       "    </tr>\n",
       "    <tr>\n",
       "      <th>cp</th>\n",
       "      <td>19</td>\n",
       "      <td>14.179104</td>\n",
       "    </tr>\n",
       "    <tr>\n",
       "      <th>trtbps</th>\n",
       "      <td>27</td>\n",
       "      <td>20.149254</td>\n",
       "    </tr>\n",
       "    <tr>\n",
       "      <th>chol</th>\n",
       "      <td>18</td>\n",
       "      <td>13.432836</td>\n",
       "    </tr>\n",
       "    <tr>\n",
       "      <th>fbs</th>\n",
       "      <td>21</td>\n",
       "      <td>15.671642</td>\n",
       "    </tr>\n",
       "    <tr>\n",
       "      <th>thalachh</th>\n",
       "      <td>18</td>\n",
       "      <td>13.432836</td>\n",
       "    </tr>\n",
       "    <tr>\n",
       "      <th>exng</th>\n",
       "      <td>18</td>\n",
       "      <td>13.432836</td>\n",
       "    </tr>\n",
       "    <tr>\n",
       "      <th>oldpeak</th>\n",
       "      <td>21</td>\n",
       "      <td>15.671642</td>\n",
       "    </tr>\n",
       "    <tr>\n",
       "      <th>caa</th>\n",
       "      <td>21</td>\n",
       "      <td>15.671642</td>\n",
       "    </tr>\n",
       "    <tr>\n",
       "      <th>thall</th>\n",
       "      <td>23</td>\n",
       "      <td>17.164179</td>\n",
       "    </tr>\n",
       "    <tr>\n",
       "      <th>heart_attack</th>\n",
       "      <td>16</td>\n",
       "      <td>11.940299</td>\n",
       "    </tr>\n",
       "  </tbody>\n",
       "</table>\n",
       "</div>"
      ],
      "text/plain": [
       "              Missing Number  Missing Percentage\n",
       "age                       22           16.417910\n",
       "sex                       18           13.432836\n",
       "cp                        19           14.179104\n",
       "trtbps                    27           20.149254\n",
       "chol                      18           13.432836\n",
       "fbs                       21           15.671642\n",
       "thalachh                  18           13.432836\n",
       "exng                      18           13.432836\n",
       "oldpeak                   21           15.671642\n",
       "caa                       21           15.671642\n",
       "thall                     23           17.164179\n",
       "heart_attack              16           11.940299"
      ]
     },
     "execution_count": 355,
     "metadata": {},
     "output_type": "execute_result"
    }
   ],
   "source": [
    "percentage_df = pd.DataFrame(heart.isnull().sum())\n",
    "percentage_df.columns = ['Missing Number']\n",
    "percentage_df['Missing Percentage'] = (percentage_df['Missing Number']*100)/heart.shape[0]\n",
    "percentage_df # Examined the missing value number and missing value percentage of each column in dataset."
   ]
  },
  {
   "cell_type": "code",
   "execution_count": 356,
   "metadata": {
    "id": "pHS1FEBpP2Gk",
    "pycharm": {
     "name": "#%%\n"
    }
   },
   "outputs": [],
   "source": [
    "heart['age'] = heart['age'].fillna((heart['age'].median())) # Filled NA values on age variable with median.\n",
    "heart['trtbps'] = heart['trtbps'].fillna((heart['trtbps'].median())) # Filled NA values on trtbps variable with median.\n",
    "heart['chol'] = heart['chol'].fillna((heart['chol'].median())) # Filled NA values on chol variable with median.\n",
    "heart['thalachh'] = heart['thalachh'].fillna((heart['thalachh'].median())) # Filled NA values on thalachh variable with median.\n",
    "heart['sex'] = heart['sex'].fillna(heart['sex'].mode()[0]) # Filled NA values on sex variable with mode.\n",
    "heart['cp'] = heart['cp'].fillna(heart['cp'].mode()[0]) # Filled NA values on cp variable with mode.\n",
    "heart['fbs'] = heart['fbs'].fillna(heart['fbs'].mode()[0]) # Filled NA values on fbs variable with mode.\n",
    "heart['exng'] = heart['exng'].fillna(heart['exng'].mode()[0]) # Filled NA values on exng variable with mode.\n",
    "heart['oldpeak'] = heart['oldpeak'].fillna(heart['oldpeak'].mode()[0]) # Filled NA values on oldpeak variable with mode.\n",
    "heart['caa'] = heart['caa'].fillna(heart['caa'].mode()[0]) # Filled NA values on caa variable with mode.\n",
    "heart['thall'] = heart['thall'].fillna(heart['thall'].mode()[0]) # Filled NA values on thall variable with mode.\n",
    "heart['heart_attack'] = heart['heart_attack'].fillna(heart['heart_attack'].mode()[0]) # Filled NA values on heart_attack variable with mode."
   ]
  },
  {
   "cell_type": "code",
   "execution_count": 357,
   "metadata": {
    "collapsed": false,
    "pycharm": {
     "name": "#%%\n"
    }
   },
   "outputs": [],
   "source": [
    "heart = heart.rename(columns = {\"age\":\"Age\",\"sex\":\"Sex\",\"cp\":\"CP\",\"trtbps\":\"Resting_BPS\",\"chol\":\"Chol\",\"fbs\":\"FBS\",\"thalachh\":\"Thalachh\",\"exng\":\"Exang\",\"oldpeak\":\"Oldpeak\",\"caa\":\"CAA\",\"thall\":\"Thall\",\"heart_attack\":\"Heart_Attack\"}) # Renamed the column names of the dataset."
   ]
  },
  {
   "cell_type": "code",
   "execution_count": 358,
   "metadata": {
    "collapsed": false,
    "pycharm": {
     "name": "#%%\n"
    }
   },
   "outputs": [
    {
     "data": {
      "text/plain": [
       "Age             0\n",
       "Sex             0\n",
       "CP              0\n",
       "Resting_BPS     0\n",
       "Chol            0\n",
       "FBS             0\n",
       "Thalachh        0\n",
       "Exang           0\n",
       "Oldpeak         0\n",
       "CAA             0\n",
       "Thall           0\n",
       "Heart_Attack    0\n",
       "dtype: int64"
      ]
     },
     "execution_count": 358,
     "metadata": {},
     "output_type": "execute_result"
    }
   ],
   "source": [
    "heart.isnull().sum() # Final check on the data if any of the columns have NA value."
   ]
  },
  {
   "cell_type": "code",
   "execution_count": 360,
   "metadata": {
    "collapsed": false,
    "pycharm": {
     "name": "#%%\n"
    }
   },
   "outputs": [
    {
     "name": "stdout",
     "output_type": "stream",
     "text": [
      "Male      103\n",
      "Female     31\n",
      "Name: Sex, dtype: int64\n",
      "No     96\n",
      "Yes    38\n",
      "Name: Exang, dtype: int64\n",
      "Yes    82\n",
      "No     52\n",
      "Name: Heart_Attack, dtype: int64\n"
     ]
    }
   ],
   "source": [
    "for i in heart.select_dtypes(include = 'object').columns:\n",
    "    print(heart[i].value_counts()) # Examined the items again to check for any possible problems."
   ]
  },
  {
   "cell_type": "code",
   "execution_count": 361,
   "metadata": {
    "collapsed": false,
    "pycharm": {
     "name": "#%%\n"
    }
   },
   "outputs": [
    {
     "name": "stdout",
     "output_type": "stream",
     "text": [
      "57.0    29\n",
      "59.0     8\n",
      "51.0     6\n",
      "66.0     6\n",
      "64.0     5\n",
      "54.0     5\n",
      "58.0     5\n",
      "43.0     5\n",
      "67.0     4\n",
      "61.0     4\n",
      "45.0     4\n",
      "62.0     4\n",
      "52.0     4\n",
      "48.0     4\n",
      "44.0     4\n",
      "65.0     3\n",
      "60.0     3\n",
      "56.0     3\n",
      "69.0     3\n",
      "42.0     3\n",
      "49.0     3\n",
      "53.0     3\n",
      "46.0     2\n",
      "55.0     2\n",
      "63.0     2\n",
      "50.0     2\n",
      "68.0     2\n",
      "35.0     1\n",
      "71.0     1\n",
      "47.0     1\n",
      "39.0     1\n",
      "41.0     1\n",
      "34.0     1\n",
      "Name: Age, dtype: int64\n",
      "0.0    73\n",
      "2.0    33\n",
      "1.0    18\n",
      "3.0    10\n",
      "Name: CP, dtype: int64\n",
      "130.0    41\n",
      "120.0    13\n",
      "110.0    11\n",
      "140.0     9\n",
      "128.0     7\n",
      "150.0     6\n",
      "132.0     5\n",
      "138.0     4\n",
      "118.0     3\n",
      "134.0     3\n",
      "125.0     3\n",
      "160.0     3\n",
      "100.0     2\n",
      "180.0     2\n",
      "105.0     2\n",
      "112.0     2\n",
      "115.0     2\n",
      "122.0     1\n",
      "165.0     1\n",
      "170.0     1\n",
      "164.0     1\n",
      "136.0     1\n",
      "102.0     1\n",
      "174.0     1\n",
      "135.0     1\n",
      "148.0     1\n",
      "152.0     1\n",
      "144.0     1\n",
      "124.0     1\n",
      "145.0     1\n",
      "146.0     1\n",
      "101.0     1\n",
      "94.0      1\n",
      "Name: Resting_BPS, dtype: int64\n",
      "241.5    18\n",
      "234.0     4\n",
      "254.0     3\n",
      "249.0     3\n",
      "204.0     3\n",
      "         ..\n",
      "274.0     1\n",
      "308.0     1\n",
      "298.0     1\n",
      "246.0     1\n",
      "214.0     1\n",
      "Name: Chol, Length: 84, dtype: int64\n",
      "False    113\n",
      "True      21\n",
      "Name: FBS, dtype: int64\n",
      "150.0    21\n",
      "144.0     5\n",
      "162.0     4\n",
      "122.0     4\n",
      "132.0     4\n",
      "         ..\n",
      "148.0     1\n",
      "165.0     1\n",
      "138.0     1\n",
      "170.0     1\n",
      "169.0     1\n",
      "Name: Thalachh, Length: 61, dtype: int64\n",
      "0.0    54\n",
      "1.2     8\n",
      "0.8     7\n",
      "0.2     6\n",
      "0.6     6\n",
      "1.0     6\n",
      "0.1     4\n",
      "2.6     4\n",
      "1.6     4\n",
      "1.4     4\n",
      "2.8     4\n",
      "0.4     4\n",
      "2.0     3\n",
      "1.8     3\n",
      "1.5     3\n",
      "1.9     2\n",
      "4.2     2\n",
      "3.0     2\n",
      "0.5     2\n",
      "3.6     2\n",
      "2.4     2\n",
      "2.2     1\n",
      "4.0     1\n",
      "Name: Oldpeak, dtype: int64\n",
      "0.0    85\n",
      "1.0    27\n",
      "2.0    14\n",
      "3.0     8\n",
      "Name: CAA, dtype: int64\n",
      "2.0    84\n",
      "3.0    44\n",
      "1.0     5\n",
      "0.0     1\n",
      "Name: Thall, dtype: int64\n"
     ]
    }
   ],
   "source": [
    "for i in heart.select_dtypes(exclude= \"object\").columns:\n",
    "    print(heart[i].value_counts()) # Examined the items again to check for any possible problems."
   ]
  },
  {
   "cell_type": "code",
   "execution_count": 362,
   "metadata": {
    "collapsed": false,
    "pycharm": {
     "name": "#%%\n"
    }
   },
   "outputs": [],
   "source": [
    "heart.to_csv(\"heartattack_cleaning.csv\") # Imported the final version of dataset"
   ]
  },
  {
   "cell_type": "markdown",
   "metadata": {
    "collapsed": false,
    "pycharm": {
     "name": "#%% md\n"
    }
   },
   "source": [
    "Research Questions"
   ]
  },
  {
   "cell_type": "markdown",
   "metadata": {
    "collapsed": false,
    "pycharm": {
     "name": "#%% md\n"
    }
   },
   "source": [
    "1) What impact has the gender of the patient had on the risk of developing a heart attack?"
   ]
  },
  {
   "cell_type": "code",
   "execution_count": 388,
   "metadata": {
    "collapsed": false,
    "pycharm": {
     "name": "#%%\n"
    }
   },
   "outputs": [
    {
     "data": {
      "image/png": "[encoded data removed]",
      "text/plain": [
       "<Figure size 432x288 with 1 Axes>"
      ]
     },
     "metadata": {
      "needs_background": "light"
     },
     "output_type": "display_data"
    }
   ],
   "source": [
    "sns.countplot(x=heart[\"Sex\"], color=\"red\", data=heart, hue= heart[\"Heart_Attack\"], palette = \"tab10\")\n",
    "plt.xlabel(\"Gender\")\n",
    "plt.ylabel(\"Number of Heart Attack\")\n",
    "plt.title(\"Men, don't ignore the facts: you are at a higher risk for heart attacks. Take action to protect yourself.\",fontsize = 15, fontweight = \"bold\")\n",
    "plt.show()"
   ]
  },
  {
   "cell_type": "markdown",
   "metadata": {
    "collapsed": false,
    "pycharm": {
     "name": "#%% md\n"
    }
   },
   "source": [
    "2) Based on the distribution of the chest pain type that patients have, which chest pain type has the highest frequency of occurrence?"
   ]
  },
  {
   "cell_type": "code",
   "execution_count": 389,
   "metadata": {
    "collapsed": false,
    "pycharm": {
     "name": "#%%\n"
    }
   },
   "outputs": [
    {
     "data": {
      "text/plain": [
       "Text(0, 0.5, 'Count of Chest Pain Type')"
      ]
     },
     "execution_count": 389,
     "metadata": {},
     "output_type": "execute_result"
    },
    {
     "data": {
      "image/png": "[encoded data removed]",
      "text/plain": [
       "<Figure size 432x288 with 1 Axes>"
      ]
     },
     "metadata": {
      "needs_background": "light"
     },
     "output_type": "display_data"
    }
   ],
   "source": [
    "sns.countplot(x=heart[\"CP\"], palette = \"bright\")\n",
    "plt.title(\"Chest pain, don't ignore it: Know the most common type and seek help immediately\",fontsize = 15, fontweight = \"bold\")\n",
    "plt.xlabel('Chest Pain Type')\n",
    "plt.ylabel('Count of Chest Pain Type')"
   ]
  },
  {
   "cell_type": "markdown",
   "metadata": {
    "collapsed": false,
    "pycharm": {
     "name": "#%% md\n"
    }
   },
   "source": [
    "3) How does the number of major blood vessels associate with the patient’s maximum achieved heart rate?"
   ]
  },
  {
   "cell_type": "code",
   "execution_count": 393,
   "metadata": {
    "collapsed": false,
    "pycharm": {
     "name": "#%%\n"
    }
   },
   "outputs": [
    {
     "data": {
      "image/png": "[encoded data removed]",
      "text/plain": [
       "<Figure size 432x288 with 1 Axes>"
      ]
     },
     "metadata": {
      "needs_background": "light"
     },
     "output_type": "display_data"
    }
   ],
   "source": [
    "sns.boxplot(x=heart['CAA'], y=heart['Thalachh'], data=heart, palette = \"bright\")\n",
    "plt.title(\"Keep your blood vessels healthy to keep your heart rate ideal.\",fontsize = 15, fontweight = \"bold\")\n",
    "plt.xlabel('Number of Major Vessels')\n",
    "plt.ylabel('Max. Heart Rate Achieved')\n",
    "plt.show()"
   ]
  },
  {
   "cell_type": "markdown",
   "metadata": {
    "collapsed": false,
    "pycharm": {
     "name": "#%% md\n"
    }
   },
   "source": [
    "4) How have age factor of the patient affected the resting blood pressure level?"
   ]
  },
  {
   "cell_type": "code",
   "execution_count": 390,
   "metadata": {
    "collapsed": false,
    "pycharm": {
     "name": "#%%\n"
    }
   },
   "outputs": [
    {
     "data": {
      "image/png": "[encoded data removed]",
      "text/plain": [
       "<Figure size 432x288 with 1 Axes>"
      ]
     },
     "metadata": {
      "needs_background": "light"
     },
     "output_type": "display_data"
    }
   ],
   "source": [
    "sns.regplot(x=heart['Age'], y=heart['Resting_BPS'], data=heart, color = \"purple\")\n",
    "plt.xlabel('Age')\n",
    "plt.ylabel('Resting Blood Pressure')\n",
    "plt.title(\"Age is a factor: While time is moving, keep an eye on your resting blood pressure level\",fontsize = 15, fontweight = \"bold\")\n",
    "plt.show()"
   ]
  },
  {
   "cell_type": "markdown",
   "metadata": {
    "collapsed": false,
    "pycharm": {
     "name": "#%% md\n"
    }
   },
   "source": [
    "5) How does the cholesterol level of the patient correlate with the ST depression induced by exercise relative to rest?"
   ]
  },
  {
   "cell_type": "code",
   "execution_count": 391,
   "metadata": {
    "collapsed": false,
    "pycharm": {
     "name": "#%%\n"
    }
   },
   "outputs": [
    {
     "data": {
      "image/png": "[encoded data removed]",
      "text/plain": [
       "<Figure size 360x360 with 1 Axes>"
      ]
     },
     "metadata": {
      "needs_background": "light"
     },
     "output_type": "display_data"
    }
   ],
   "source": [
    "sns.lmplot(data=heart, x=\"Oldpeak\", y=\"Chol\")\n",
    "plt.title('Keep your cholesterol level in check for a healthy exercise response',fontsize = 15, fontweight = \"bold\")\n",
    "plt.xlabel('ST Depression')\n",
    "plt.ylabel('Cholestoral')\n",
    "plt.show()"
   ]
  },
  {
   "cell_type": "markdown",
   "metadata": {
    "collapsed": false,
    "pycharm": {
     "name": "#%% md\n"
    }
   },
   "source": [
    "6) What effect does the number of major vessels have on the heart attack risk of patients?"
   ]
  },
  {
   "cell_type": "code",
   "execution_count": 392,
   "metadata": {
    "collapsed": false,
    "pycharm": {
     "name": "#%%\n"
    }
   },
   "outputs": [
    {
     "data": {
      "image/png": "[encoded data removed]",
      "text/plain": [
       "<Figure size 432x288 with 1 Axes>"
      ]
     },
     "metadata": {
      "needs_background": "light"
     },
     "output_type": "display_data"
    }
   ],
   "source": [
    "sns.countplot(x=heart['CAA'], data=heart, hue = heart[\"Heart_Attack\"], palette = \"bright\")\n",
    "plt.xlabel('CAA')\n",
    "plt.ylabel('Count of CAA')\n",
    "plt.title(\"The more blocked major vessels, the higher the heart attack risk\",fontsize = 15, fontweight = \"bold\")\n",
    "plt.show()"
   ]
  },
  {
   "cell_type": "code",
   "execution_count": null,
   "metadata": {
    "collapsed": false,
    "pycharm": {
     "name": "#%%\n"
    }
   },
   "outputs": [],
   "source": []
  }
 ],
 "metadata": {
  "colab": {
   "provenance": []
  },
  "kernelspec": {
   "display_name": "Python 3",
   "name": "python3"
  },
  "language_info": {
   "name": "python"
  }
 },
 "nbformat": 4,
 "nbformat_minor": 0
}
